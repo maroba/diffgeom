{
 "cells": [
  {
   "cell_type": "markdown",
   "metadata": {},
   "source": [
    "## Implementation: The Manifold\n",
    "\n",
    "The manifold is the key concept for everything that follows, so it seems natural to start with that. Remember that we want to use test-driven development, so before we write code for any feature, we write a test. As a preliminary test list, I came up with this:\n",
    "\n",
    "- Upon creation, the manifold should store its coordinates and metric\n",
    "- For the Euclidean plane in cartesian coordinates, the Christoffel symbols should all be zero\n",
    "- For the Euclidean plane in polar coordinates, the Christoffel symbols should not all be zero. The only ones that   do not vanish are\n",
    "\n",
    "$$\n",
    "\\Gamma^r_{\\;\\,\\varphi\\varphi} =  -r\\quad\\quad \\Gamma^\\varphi_{\\;\\,r\\varphi} = \\Gamma^\\varphi_{\\;\\,\\varphi r} =  \\frac{1}{r}\n",
    "$$\n",
    "\n",
    "#### Test: Upon creation, the manifold should store its coordinates and metric\n",
    "\n",
    "Let's start with the first test. Create a file `tests/test_diffgeom.py` and write the following test code."
   ]
  },
  {
   "cell_type": "markdown",
   "metadata": {},
   "source": [
    "```python\n",
    "import unittest\n",
    "import sympy as sp\n",
    "from diffgeom import Manifold\n",
    "\n",
    "\n",
    "class TestManifold(unittest.TestCase):\n",
    "\n",
    "    def test_init_manifold_stores_coords_and_metric(self):\n",
    "        # Arrange\n",
    "        coords = sp.symbols('x, y')\n",
    "        metric = sp.diag(1, 1)\n",
    "        # Act\n",
    "        manifold = Manifold(metric, coords)\n",
    "        # Assert\n",
    "        self.assertEqual(manifold.coords, coords)\n",
    "        self.assertEqual(manifold.metric, metric)\n",
    "```\n"
   ]
  },
  {
   "cell_type": "markdown",
   "metadata": {},
   "source": [
    "Running the test fails at this point, because we don't have any implementation yet! So let's now write just enough implementation to make the test pass. In `diffgeom/diffgeom.py` create a class:"
   ]
  },
  {
   "cell_type": "markdown",
   "metadata": {},
   "source": [
    "```python\n",
    "class Manifold(object):\n",
    "\n",
    "    def __init__(self, metric, coords):\n",
    "        self.metric = metric\n",
    "        self.coords = coords\n",
    "\n",
    "\n",
    "```"
   ]
  },
  {
   "cell_type": "markdown",
   "metadata": {},
   "source": [
    "Running the test still fails:\n",
    "\n",
    "```\n",
    "ImportError: cannot import name 'Manifold' from 'diffgeom' (/Users/mbaer/PycharmProjects/diffgeom/diffgeom/__init__.py)\n",
    "```\n",
    "\n",
    "What's wrong? It does not find the class `Manifold` in the package `diffgeom`. That's because our class has the fully qualified name `diffgeom.diffgeom.Manifold`. But the statement `from diffgeom import Manifold` expects it to be `diffgeom.Manifold`. How can we do that? Well, just declare the name `Manifold` at the package level. Create a file `diffgeom/__init__.py` and write there\n",
    "\n",
    "```python\n",
    "from .diffgeom import Manifold\n",
    "```\n",
    "\n",
    "With this modification the test should run:\n",
    "\n",
    "```\n",
    "Ran 1 test in 0.002s\n",
    "\n",
    "OK\n",
    "```\n",
    "\n",
    "Time to commit your changes!\n",
    "\n",
    "```\n",
    "git commit -am \"Initializes Manifold object\"\n",
    "```\n",
    "\n",
    "It is good practice to declare often used names at the package level. The main advantage is that this allows you to move the implementation to some other module. If users of the code just use the exported name, then moving the implementation does not break their code. However, if you don't export names, you force the users to use fully qualified names for your classes and functions and when you move the implementation, the code of all users breaks.\n",
    "\n"
   ]
  },
  {
   "cell_type": "markdown",
   "metadata": {},
   "source": [
    "#### Test: Upon creation, the manifold should calculate the Christoffel symbols for its coordinate system\n",
    "\n",
    "Let's move on to the next test! In `tests/test_diffgeom.py`, add another test to the `TestManifold` class:"
   ]
  },
  {
   "cell_type": "markdown",
   "metadata": {},
   "source": [
    "```python\n",
    "    def test_euclidean_plane_in_cartesian_coords_has_vanishing_christoffel(self):\n",
    "        # Arrange\n",
    "        coords = sp.symbols('x, y')\n",
    "        metric = sp.diag(1, 1)\n",
    "        # Act\n",
    "        plane = Manifold(metric, coords)\n",
    "        # Assert\n",
    "        self.assertEqual(len(plane.gammas), 0)\n",
    "```"
   ]
  },
  {
   "cell_type": "markdown",
   "metadata": {},
   "source": [
    "Here we test if the data structure that will hold the Christoffel symbols has no entries. We only want to store non-vanishing components, because in practice most of the components would be zero anyways.\n",
    "\n",
    "Again, running the test fails, because we haven't done the implementation yet! So let's do this now. Add the following code to the `diffgeom.diffgeom.Manifold.__init__` function:\n",
    "\n",
    "```python\n",
    "    self.gammas = {}\n",
    "```\n",
    "\n",
    "Running now all tests should succeed. But seriously? This is just a dummy implementation! Yes. But it is not unusual for test-driven development to write a dummy implementation until you are forced to have a really general one. \"Fake it until you make it\", so to speak. The approach is usually to write as little code as possible to satisfy all tests. And before writing a more general implementation, write more tests that force you to more generality.\n",
    "\n",
    "All tests are passing, so commit and do some refactoring, if necessary."
   ]
  },
  {
   "cell_type": "markdown",
   "metadata": {},
   "source": [
    "#### Test: For the Euclidean plane in polar coordinates, the Christoffel symbols should not all be zero.\n",
    "\n",
    "This test will force us to replace the dummy implementation with something more general. Add the following test to our test class:"
   ]
  },
  {
   "cell_type": "markdown",
   "metadata": {},
   "source": [
    "```python\n",
    "    def test_euclidean_plane_in_polar_coords_has_nonvanishing_christoffel(self):\n",
    "        # Arrange\n",
    "        r, phi = sp.symbols('r, phi')\n",
    "        metric = sp.diag(1, r**2)\n",
    "        # Act\n",
    "        plane = Manifold(metric, coords=(r, phi)) # zeroth coord == r, first coord == phi\n",
    "        # Assert\n",
    "        self.assertEqual(len(plane.gammas), 3)\n",
    "        self.assertEqual(plane.gammas[0, 1, 1], -r)\n",
    "        self.assertEqual(plane.gammas[1, 0, 1], 1/r)\n",
    "        self.assertEqual(plane.gammas[1, 1, 0], 1 / r)\n",
    "```\n"
   ]
  },
  {
   "cell_type": "markdown",
   "metadata": {},
   "source": [
    "Here I decided to store the Christoffel symbols in a dictionary, where the key values are integer index triples representing the coordinates. The zeroth coordinate is $r$ in our case and the first coordinate is $\\varphi$. This is determined by the order of the coordinates given to the constructor. Since it is a bit cumbersome to remember the order of the coordinates, it would be nice if we had the option to access the Christoffel symbols optionally like so:\n",
    "\n",
    "```python\n",
    "plane.gammas[r, phi, phi]\n",
    "```\n",
    "\n",
    "We will implement that later. For now let's put this idea to our list of tests:\n",
    "\n",
    "- Christoffel symbols should be accessible by coordinate names\n",
    "\n",
    "So we don't forget it and implement it whenever it is convenient.\n",
    "\n",
    "Runnung **all** tests will fail, since we don't have a general implementation for the Christoffel symbols, so let's turn to this in order to satisfy the tests.\n",
    "\n",
    "The Christoffel symbols can be computed from the metric $g_{\\mu\\nu}$ and its inverse $g^{\\mu\\nu}$ from the following formula:\n",
    "\n",
    "$$\n",
    "\\Gamma^{\\mu}_{\\;\\alpha\\beta} = \n",
    "\\frac{1}{2}g^{\\mu\\nu}\\left(\n",
    "g_{\\nu\\beta, \\alpha} + \n",
    "g_{\\alpha\\nu, \\beta} -\n",
    "g_{\\alpha\\beta, \\nu}\n",
    "\\right)\n",
    "$$\n",
    "\n",
    "where we have an implicit summation over $\\nu$ (Einstein sum convention!). Change the implemtation of the `diffgeom.Manifold` class to"
   ]
  },
  {
   "cell_type": "markdown",
   "metadata": {},
   "source": [
    "```python\n",
    "import sympy as sp\n",
    "\n",
    "\n",
    "class Manifold(object):\n",
    "\n",
    "    def __init__(self, metric, coords):\n",
    "        self.metric = metric\n",
    "        self.coords = coords\n",
    "        self.gammas = self._calc_gammas()\n",
    "\n",
    "    def _calc_gammas(self):\n",
    "        x = self.coords\n",
    "        g = self.metric\n",
    "        gammas = {}\n",
    "        n = len(x)\n",
    "        g_inv = g.inv()\n",
    "        for mu in range(n):\n",
    "            for alpha in range(n):\n",
    "                for beta in range(n):\n",
    "                    gamma = 0\n",
    "                    for nu in range(n):\n",
    "                        gamma += g_inv[mu, nu] * (sp.diff(g[alpha, nu], x[beta]) +\n",
    "                                                  sp.diff(g[nu, beta], x[alpha]) -\n",
    "                                                  sp.diff(g[alpha, beta], x[nu])\n",
    "                                                  )\n",
    "                    if gamma != 0:\n",
    "                        gammas[(mu, alpha, beta)] = gamma / 2\n",
    "        return gammas\n",
    "\n",
    "```"
   ]
  },
  {
   "cell_type": "markdown",
   "metadata": {},
   "source": [
    "Here we have used the partial differentation function `diff` from `sympy`. Note that we only nonzero values.\n",
    "\n",
    "Running **all** tests should succeed now. So we are ready to commit again."
   ]
  },
  {
   "cell_type": "code",
   "execution_count": null,
   "metadata": {},
   "outputs": [],
   "source": []
  }
 ],
 "metadata": {
  "kernelspec": {
   "display_name": "Python 3",
   "language": "python",
   "name": "python3"
  },
  "language_info": {
   "codemirror_mode": {
    "name": "ipython",
    "version": 3
   },
   "file_extension": ".py",
   "mimetype": "text/x-python",
   "name": "python",
   "nbconvert_exporter": "python",
   "pygments_lexer": "ipython3",
   "version": "3.8.5"
  }
 },
 "nbformat": 4,
 "nbformat_minor": 4
}
