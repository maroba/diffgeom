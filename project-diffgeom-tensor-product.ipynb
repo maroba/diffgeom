{
 "cells": [
  {
   "cell_type": "markdown",
   "metadata": {},
   "source": [
    "# Tensor products and contraction"
   ]
  },
  {
   "cell_type": "markdown",
   "metadata": {},
   "source": [
    "#### Test: Product of two tensors creates new tensor with higher rank\n",
    "\n",
    "```python\n",
    "    def test_tensor_product_returns_new_tensor(self):\n",
    "        # Arrange\n",
    "        r, phi = sp.symbols('r, phi')\n",
    "        metric = sp.diag(1, r ** 2)\n",
    "        plane = Manifold(metric, coords=(r, phi))\n",
    "        A = Tensor(plane, 'ulu')\n",
    "        B = Tensor(plane, 'lu')\n",
    "\n",
    "        # Act\n",
    "        C = A * B\n",
    "\n",
    "        # Assert\n",
    "        self.assertEqual(C.rank, 5)\n",
    "\n",
    "```\n",
    "\n",
    "```\n",
    "TypeError: unsupported operand type(s) for *: 'Tensor' and 'Tensor'\n",
    "```\n"
   ]
  },
  {
   "cell_type": "markdown",
   "metadata": {},
   "source": [
    "Implement `Tensor.__mul__`:"
   ]
  },
  {
   "cell_type": "markdown",
   "metadata": {},
   "source": [
    "```python\n",
    "    def __mul__(self, other):\n",
    "        result = Tensor(self.manifold, self.idx_pos + other.idx_pos, values=self.values)\n",
    "\n",
    "        for m_idx in result.values:\n",
    "            result[m_idx] *= other[m_idx]\n",
    "\n",
    "        return result\n",
    "```"
   ]
  },
  {
   "cell_type": "markdown",
   "metadata": {},
   "source": [
    "Error:\n",
    "\n",
    "```\n",
    "AttributeError: 'Tensor' object has no attribute 'rank'\n",
    "```"
   ]
  },
  {
   "cell_type": "markdown",
   "metadata": {},
   "source": [
    "Add to `Tensor` read-only attribute:\n",
    "\n",
    "```python\n",
    "    @property\n",
    "    def rank(self):\n",
    "        return len(self.idx_pos)\n",
    "\n",
    "```"
   ]
  },
  {
   "cell_type": "markdown",
   "metadata": {},
   "source": [
    "## Contraction\n",
    "\n",
    "#### Test: Contraction of tensor on two indices returns new tensor of lower rank"
   ]
  },
  {
   "cell_type": "markdown",
   "metadata": {},
   "source": [
    "```python\n",
    "    def test_tensor_contraction_returns_new_tensor_of_lower_rank(self):\n",
    "        # Arrange\n",
    "        coords = sp.symbols('t, x, y, z')\n",
    "        metric = sp.diag(-1, 1, 1, 1)\n",
    "        minkowski = Manifold(metric, coords)\n",
    "        x = Tensor(minkowski, 'u', values={k: c for k, c in enumerate(coords)})\n",
    "        eta = Tensor(minkowski, 'll', {(k, k): metric[k, k] for k in range(4)})\n",
    "\n",
    "        # Act\n",
    "        x_low = (eta * x).contract(1, 2)\n",
    "\n",
    "        # Assert\n",
    "        self.assertEqual(x_low.rank, 1)\n",
    "        self.assertEqual(x_low.idx_pos, 'l')\n",
    "\n",
    "\n",
    "```"
   ]
  },
  {
   "cell_type": "markdown",
   "metadata": {},
   "source": [
    "Error:\n",
    "\n",
    "```\n",
    "File \"/Users/mbaer/PycharmProjects/diffgeom/diffgeom/diffgeom.py\", line 37, in _translate_multi_idx\n",
    "    for idx in m_idx:\n",
    "TypeError: 'int' object is not iterable\n",
    "```\n",
    "\n",
    "Error is unexpected => Found a bug!\n",
    "\n",
    "Modify:\n",
    "\n",
    "```python\n",
    "\n",
    "    def _translate_multi_idx(self, m_idx):\n",
    "        result = []\n",
    "        if not hasattr(m_idx, '__len__'):\n",
    "            m_idx = (m_idx, )\n",
    "        for idx in m_idx:\n",
    "            if isinstance(idx, int):\n",
    "                result.append(idx)\n",
    "            else:\n",
    "                result.append(self.names_map[idx])\n",
    "        return tuple(result)\n",
    "```"
   ]
  },
  {
   "cell_type": "markdown",
   "metadata": {},
   "source": [
    "Error:\n",
    "\n",
    "```\n",
    "AttributeError: 'Tensor' object has no attribute 'contract'\n",
    "```\n",
    "\n",
    "This is what we expect. Implement!"
   ]
  },
  {
   "cell_type": "markdown",
   "metadata": {},
   "source": [
    "```python\n",
    "\n",
    "    def contract(self, idx1, idx2):\n",
    "        if idx2 < idx1:\n",
    "            idx1, idx2 = idx2, idx1\n",
    "        idx_pos = list(self.idx_pos)\n",
    "        del idx_pos[idx2]\n",
    "        del idx_pos[idx1]\n",
    "        idx_pos = ''.join(idx_pos)\n",
    "\n",
    "        result = Tensor(self.manifold, idx_pos)\n",
    "\n",
    "        for m_idx in self.multi_indices:\n",
    "            if m_idx[idx1] != m_idx[idx2]:\n",
    "                continue\n",
    "            value = self[m_idx]\n",
    "            m_idx = list(m_idx)\n",
    "            del m_idx[idx2]\n",
    "            del m_idx[idx1]\n",
    "            result[m_idx] += value\n",
    "\n",
    "        return result\n",
    "\n",
    "    @property\n",
    "    def multi_indices(self):\n",
    "        from itertools import product\n",
    "        return product(*tuple(list(range(len(self.manifold.coords))) for _ in range(self.rank)))\n",
    "    \n",
    "```\n",
    "\n",
    "A bit hacky. Plus: bug found in IndexedObject.\\__init__:\n",
    "\n",
    "```python\n",
    "        if values is None:\n",
    "            self.values = {}\n",
    "        else:\n",
    "            self.values = dict(values)\n",
    "```\n",
    "\n",
    "Note the dict to force a copy!"
   ]
  },
  {
   "cell_type": "markdown",
   "metadata": {},
   "source": [
    "#### Test: Lowering an index returns tensor with other structure"
   ]
  },
  {
   "cell_type": "markdown",
   "metadata": {},
   "source": [
    "```python\n",
    "    def test_lowering_index_returns_lowered_tensor(self):\n",
    "        # Arrange\n",
    "        coords = sp.symbols('t, x, y, z')\n",
    "        metric = sp.diag(-1, 1, 1, 1)\n",
    "        minkowski = Manifold(metric, coords)\n",
    "        xx = Tensor(minkowski, 'uu', values={(k,k): c for k, c in enumerate(coords)})\n",
    "\n",
    "        # Act\n",
    "        xx_low = xx.lower_index(0)\n",
    "\n",
    "        # Assert\n",
    "        self.assertEqual(xx_low.idx_pos, 'lu')\n",
    "        self.assertEqual(xx_low[0, 0], -coords[0])\n",
    "        self.assertEqual(xx_low[1, 1], coords[1])\n",
    "```"
   ]
  },
  {
   "cell_type": "markdown",
   "metadata": {},
   "source": [
    "```python\n",
    "\n",
    "    def lower_index(self, idx):\n",
    "        idx_pos = list(self.idx_pos)\n",
    "        if idx_pos[idx] == 'l':\n",
    "            raise IncompatibleIndexPositionException('Index already downstairs.')\n",
    "        idx_pos[idx] = 'l'\n",
    "        result = Tensor(self.manifold, str(idx_pos))\n",
    "        g = self.manifold.metric\n",
    "        g = Tensor(self.manifold, 'll', values={(k, k): g[k, k] for k in range(self.manifold.dims)})\n",
    "        return (g * self).contract(1, 2 + idx)\n",
    "```\n"
   ]
  },
  {
   "cell_type": "markdown",
   "metadata": {},
   "source": [
    "#### Test:     \n",
    "\n",
    "```python\n",
    "def test_raising_index_returns_raised_tensor(self):\n",
    "\n",
    "        # Arrange\n",
    "        coords = sp.symbols('t, x, y, z')\n",
    "        metric = sp.diag(-1, 1, 1, 1)\n",
    "        minkowski = Manifold(metric, coords)\n",
    "        xx = Tensor(minkowski, 'll', values={(k,k): c for k, c in enumerate(coords)})\n",
    "        xx[0, 0] *= -1\n",
    "\n",
    "        # Act\n",
    "        xx_high = xx.raise_index(0)\n",
    "\n",
    "        # Assert\n",
    "        self.assertEqual(xx_high.idx_pos, 'ul')\n",
    "        self.assertEqual(xx_high[0, 0], coords[0])\n",
    "        self.assertEqual(xx_high[1, 1], coords[1])\n",
    "```\n"
   ]
  },
  {
   "cell_type": "markdown",
   "metadata": {},
   "source": [
    "#### Test: Covariant derivative returns tensor of one rank higher\n",
    "\n",
    "```python\n",
    "\n",
    "    def test_diff_tensor(self):\n",
    "        r, ph, th = sp.symbols('r, phi, theta')\n",
    "        sphere = Manifold(sp.diag(r ** 2, r ** 2 * sp.sin(th) ** 2), (th, ph))\n",
    "\n",
    "        A = Tensor(sphere, 'ul', {(0, 0): th**2+ph**3,\n",
    "                                    (0, 1): th**3 + ph**2,\n",
    "                                    (1, 0): th**2 * ph**3,\n",
    "                                    (1, 1): th**3 * ph**2\n",
    "                                    })\n",
    "\n",
    "        nabla_A = A.diff()\n",
    "        C = sphere.gammas\n",
    "\n",
    "        assert nabla_A[(th, th, th)] == sp.diff(A[th, th], th)\n",
    "        assert nabla_A[(th, th, ph)] ==  sp.diff(A[th, th], ph) + A[th, th] * C[th, th, ph] + A[ph, th] * C[th, ph, ph] \\\n",
    "                                        - A[th, th] * C[th, th, ph] - A[th, ph] * C[ph, th, ph]\n",
    "        assert nabla_A[(th, th, ph)] != sp.diff(A[th, th], ph)\n",
    "\n",
    "```"
   ]
  },
  {
   "cell_type": "markdown",
   "metadata": {},
   "source": [
    "#### Test: Riemann tensor of Euclidean plane in polar coordinates vanishes\n",
    "\n",
    "```python\n",
    "\n",
    "\n",
    "class TestRiemann(unittest.TestCase):\n",
    "\n",
    "    def test_euclidean_plan_has_vanishing_riemann(self):\n",
    "\n",
    "        r, phi = s.symbols('r phi')\n",
    "        metric = s.diag(1, r**2)\n",
    "        plane = Manifold(metric, (r, phi))\n",
    "\n",
    "        riemann = RiemannTensor(plane)\n",
    "        assert len(riemann.values) == 0\n",
    "\n",
    "```"
   ]
  },
  {
   "cell_type": "markdown",
   "metadata": {},
   "source": [
    "#### Test: Sphere has nonvanishing Riemann tensor\n",
    "\n",
    "```python\n",
    "\n",
    "\n",
    "    def test_sphere_has_nonvanishing_riemann(self):\n",
    "\n",
    "        r, ph, th = s.symbols('r, phi, theta')\n",
    "        sphere = Manifold(s.diag(r ** 2, r ** 2 * s.sin(th) ** 2), (th, ph))\n",
    "        R = RiemannTensor(sphere)\n",
    "\n",
    "        assert len(R.values) > 0\n",
    "        assert R[0, 1, 0, 1] == s.sin(th)**2\n",
    "        assert R[0, 1, 1, 0] == -s.sin(th) ** 2\n",
    "        assert R[1, 0, 1, 0] == 1\n",
    "        assert R[1, 0, 0, 1] == -1\n",
    "        \n",
    "```"
   ]
  },
  {
   "cell_type": "markdown",
   "metadata": {},
   "source": [
    "$$\n",
    "\\rm{\\Box}\n",
    "$$"
   ]
  },
  {
   "cell_type": "code",
   "execution_count": null,
   "metadata": {},
   "outputs": [],
   "source": []
  }
 ],
 "metadata": {
  "kernelspec": {
   "display_name": "Python 3",
   "language": "python",
   "name": "python3"
  },
  "language_info": {
   "codemirror_mode": {
    "name": "ipython",
    "version": 3
   },
   "file_extension": ".py",
   "mimetype": "text/x-python",
   "name": "python",
   "nbconvert_exporter": "python",
   "pygments_lexer": "ipython3",
   "version": "3.8.5"
  }
 },
 "nbformat": 4,
 "nbformat_minor": 4
}
