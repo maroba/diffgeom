{
 "cells": [
  {
   "cell_type": "markdown",
   "metadata": {},
   "source": [
    "# Coordinate Transformations\n",
    "\n",
    "The coordinate transformation\n",
    "\n",
    "$$\n",
    "x'^\\mu = x'^\\mu(x^\\alpha)\n",
    "$$\n",
    "\n",
    "has the Jacobian matrix\n",
    "\n",
    "$$\n",
    "\\Lambda^\\mu_\\nu = \\frac{\\partial x'^\\mu}{\\partial x^\\nu}\n",
    "$$\n",
    "\n",
    "and vectors transform \n",
    "\n",
    "$$\n",
    "A'^\\mu = \\Lambda^\\mu_\\nu A^\\nu\n",
    "$$\n",
    "\n",
    "as the differentials $dx^\\mu$ do."
   ]
  },
  {
   "cell_type": "code",
   "execution_count": 4,
   "metadata": {},
   "outputs": [
    {
     "ename": "AttributeError",
     "evalue": "'Manifold' object has no attribute 'transform'",
     "output_type": "error",
     "traceback": [
      "\u001b[0;31m---------------------------------------------------------------------------\u001b[0m",
      "\u001b[0;31mAttributeError\u001b[0m                            Traceback (most recent call last)",
      "\u001b[0;32m<ipython-input-4-2d9ac0b8e1a6>\u001b[0m in \u001b[0;36m<module>\u001b[0;34m\u001b[0m\n\u001b[1;32m      7\u001b[0m \u001b[0mplane_cartesian\u001b[0m \u001b[0;34m=\u001b[0m \u001b[0mManifold\u001b[0m\u001b[0;34m(\u001b[0m\u001b[0mmetric\u001b[0m\u001b[0;34m=\u001b[0m\u001b[0msp\u001b[0m\u001b[0;34m.\u001b[0m\u001b[0mdiag\u001b[0m\u001b[0;34m(\u001b[0m\u001b[0;36m1\u001b[0m\u001b[0;34m,\u001b[0m \u001b[0;36m1\u001b[0m\u001b[0;34m)\u001b[0m\u001b[0;34m,\u001b[0m \u001b[0mcoords\u001b[0m\u001b[0;34m=\u001b[0m\u001b[0;34m(\u001b[0m\u001b[0mx\u001b[0m\u001b[0;34m,\u001b[0m \u001b[0my\u001b[0m\u001b[0;34m)\u001b[0m\u001b[0;34m)\u001b[0m\u001b[0;34m\u001b[0m\u001b[0;34m\u001b[0m\u001b[0m\n\u001b[1;32m      8\u001b[0m \u001b[0;34m\u001b[0m\u001b[0m\n\u001b[0;32m----> 9\u001b[0;31m \u001b[0mplane_polar\u001b[0m \u001b[0;34m=\u001b[0m \u001b[0mplane_cartesian\u001b[0m\u001b[0;34m.\u001b[0m\u001b[0mtransform\u001b[0m\u001b[0;34m(\u001b[0m\u001b[0;34m{\u001b[0m\u001b[0mx\u001b[0m\u001b[0;34m:\u001b[0m \u001b[0mr\u001b[0m\u001b[0;34m*\u001b[0m\u001b[0msp\u001b[0m\u001b[0;34m.\u001b[0m\u001b[0mcos\u001b[0m\u001b[0;34m(\u001b[0m\u001b[0mphi\u001b[0m\u001b[0;34m)\u001b[0m\u001b[0;34m,\u001b[0m \u001b[0my\u001b[0m\u001b[0;34m:\u001b[0m \u001b[0mr\u001b[0m\u001b[0;34m*\u001b[0m\u001b[0msp\u001b[0m\u001b[0;34m.\u001b[0m\u001b[0msin\u001b[0m\u001b[0;34m(\u001b[0m\u001b[0mphi\u001b[0m\u001b[0;34m)\u001b[0m\u001b[0;34m}\u001b[0m\u001b[0;34m)\u001b[0m\u001b[0;34m\u001b[0m\u001b[0;34m\u001b[0m\u001b[0m\n\u001b[0m",
      "\u001b[0;31mAttributeError\u001b[0m: 'Manifold' object has no attribute 'transform'"
     ]
    }
   ],
   "source": [
    "import sympy as sp\n",
    "from diffgeom import *\n",
    "\n",
    "\n",
    "x, y = sp.symbols('x, y')\n",
    "r, phi = sp.symbols('r, phi')\n",
    "plane_cartesian = Manifold(metric=sp.diag(1, 1), coords=(x, y))\n",
    "\n",
    "plane_polar = plane_cartesian.transform({x: r*sp.cos(phi), y: r*sp.sin(phi)})\n",
    "\n",
    "assert plane_polar.coords == r, phi\n",
    "assert len(plane_polar.metric) == 2\n",
    "assert plane_polar.metric[0, 0] == 1\n",
    "assert plane_polar.metric[0, 1] == r**2\n"
   ]
  },
  {
   "cell_type": "code",
   "execution_count": null,
   "metadata": {},
   "outputs": [],
   "source": []
  }
 ],
 "metadata": {
  "kernelspec": {
   "display_name": "Python 3",
   "language": "python",
   "name": "python3"
  },
  "language_info": {
   "codemirror_mode": {
    "name": "ipython",
    "version": 3
   },
   "file_extension": ".py",
   "mimetype": "text/x-python",
   "name": "python",
   "nbconvert_exporter": "python",
   "pygments_lexer": "ipython3",
   "version": "3.8.5"
  }
 },
 "nbformat": 4,
 "nbformat_minor": 4
}
