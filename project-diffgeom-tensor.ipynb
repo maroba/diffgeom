{
 "cells": [
  {
   "cell_type": "markdown",
   "metadata": {},
   "source": [
    "# The Tensor Class\n",
    "\n",
    "Our list of tests to implement currently contains only one test:\n",
    "\n",
    "- Christoffel symbols should be accessible by coordinate names\n",
    "\n",
    "I would prefer to implement this feature later, because it is not super urgent. Generally it is better to concentrate on essential features first and do those which are nice to have later. This approach is called *vertical slicing* and makes sure that you quickly get customer value. With our Manifold class in place we can turn our attention to implementing the notion of a Tensor field. \n",
    "\n",
    "Tensors live on manifolds. So the tensor should know about its manifold. And since we have a coordinate system, we can express the tensor in terms of coordinate-specific components. For example, we could a rank rank three tensor accepting a vector, a one-form and another vector as input, the components in the coordinate bases would be\n",
    "\n",
    "$$\n",
    "A^{\\mu}\\,_{\\nu}\\,^\\alpha\n",
    "$$\n"
   ]
  },
  {
   "cell_type": "markdown",
   "metadata": {},
   "source": [
    "with index positions *up-down-up*. These components should be stored in an appropriate data structure. \n",
    "\n",
    "The usual tensor algebra includes addition of tensors, tensor products, index raising and lowering, contraction and covariant differentiation. Let's start with the easy cases, which is just storing the values and addition of tensors. The tests that immediately come up my mind for this are:\n",
    "\n",
    "- Initializing a tensor with values of components, stores these values.\n",
    "- Initializing a tensor without values is the zero tensor.\n",
    "- Adding two tensors of the same structure yields another tensor with the same structure, where the component values are the sum of the componenents of the single tensors\n",
    "- Adding two tensors with different structure raises an expection."
   ]
  },
  {
   "cell_type": "markdown",
   "metadata": {},
   "source": [
    "#### Test: Initializing a tensor with values of components, stores these values.\n",
    "\n",
    "Write a **new** class in `tests/test_diffgeom.py`:\n",
    "\n"
   ]
  },
  {
   "cell_type": "markdown",
   "metadata": {},
   "source": [
    "```python\n",
    "\n",
    "from diffgeom import Tensor\n",
    "\n",
    "class TestTensor(unittest.TestCase):\n",
    "\n",
    "    def test_init_tensor_with_values_stores_values(self):\n",
    "        # Arrange\n",
    "        r, phi = sp.symbols('r, phi')\n",
    "        metric = sp.diag(1, r**2)\n",
    "        plane = Manifold(metric, coords=(r, phi))\n",
    "\n",
    "        # Act\n",
    "        A = Tensor(plane, 'ulu', {(0, 1, 0): r**4, (1, 0, 1): 1/r**2})\n",
    "\n",
    "        # Assert\n",
    "        self.assertEqual(len(A), 2)\n",
    "        self.assertEqual(A[0, 1, 0], r**4)\n",
    "        self.assertEqual(A[1, 0, 1], 1 / r**2)\n",
    "\n",
    "```"
   ]
  },
  {
   "cell_type": "markdown",
   "metadata": {},
   "source": [
    "We create the tensor with the manifold on which it lives (`plane`), configure its structure (`ulu` for *up-low-up*) and give its values as a dictionary. The keys of dictionary are index tuples of the tensor components and nonzero values are taken here as $r^4$ and $1/r^2$ as an example. Also not how we then access the tensor components with the bracket notation.\n",
    "\n",
    "Again, running all tests now will result in one failed test (the new one!). So let's turn to the implementation."
   ]
  },
  {
   "cell_type": "markdown",
   "metadata": {},
   "source": [
    "In `diffgeom/diffgeom.py` add a new class:"
   ]
  },
  {
   "cell_type": "code",
   "execution_count": null,
   "metadata": {},
   "outputs": [],
   "source": [
    "class Tensor(object):\n",
    "\n",
    "    def __init__(self, manifold, idx_pos, values):\n",
    "        self.manifold = manifold\n",
    "        self.idx_pos = idx_pos\n",
    "        self.values = values"
   ]
  },
  {
   "cell_type": "markdown",
   "metadata": {},
   "source": [
    "and add the name `Tensor` to the `diffgeom/__init__.py` file:\n",
    "\n",
    "```python\n",
    "from .diffgeom import Manifold, Tensor\n",
    "```"
   ]
  },
  {
   "cell_type": "markdown",
   "metadata": {},
   "source": [
    "Running the tests will yield an error complaining that objects of type Tensor don't have a `len()` property. So let's implement it:\n",
    "\n",
    "```python\n",
    "class Tensor(object):\n",
    "\n",
    "    def __init__(self, manifold, idx_pos, values):\n",
    "        self.manifold = manifold\n",
    "        self.idx_pos = idx_pos\n",
    "        self.values = values\n",
    "\n",
    "    def __len__(self):\n",
    "        return len(self.values)\n",
    "```\n",
    "\n"
   ]
  },
  {
   "cell_type": "markdown",
   "metadata": {},
   "source": [
    "Running the tests doesn't complain about the `len()` property any more, but says\n",
    "\n",
    "`TypeError: 'Tensor' object is not subscriptable`\n",
    "\n",
    "Ok, so we have to implement the bracket notation for the tensor class:"
   ]
  },
  {
   "cell_type": "markdown",
   "metadata": {},
   "source": [
    "```python\n",
    "\n",
    "class Tensor(object):\n",
    "\n",
    "    def __init__(self, manifold, idx_pos, values):\n",
    "        self.manifold = manifold\n",
    "        self.idx_pos = idx_pos\n",
    "        self.values = values\n",
    "\n",
    "    def __len__(self):\n",
    "        return len(self.values)\n",
    "\n",
    "    def __getitem__(self, m_idx):\n",
    "        return self.values[m_idx]\n",
    "```"
   ]
  },
  {
   "cell_type": "markdown",
   "metadata": {},
   "source": [
    "This makes all tests pass. So let's commit the code.\n",
    "\n",
    "A comment about my notation: I write `m_idx` which stands for *multi-index* or index tuple.\n",
    "\n",
    "The `__getitem__` method is called whenever we apply the bracket notation to a `Tensor` object in order to retrieve a component value. But what if we want to **set** a component value with the bracket notation? Well, let's write a test for that!"
   ]
  },
  {
   "cell_type": "markdown",
   "metadata": {},
   "source": [
    "#### Test: Setting tensor component with bracket notation stores value.\n",
    "\n",
    "Add a test to the `TestTensor` class in `tests/diffgeom.py`:\n",
    "\n",
    "```python\n",
    "    def test_set_tensor_component_stores_value(self):\n",
    "        # Arrange\n",
    "        r, phi = sp.symbols('r, phi')\n",
    "        metric = sp.diag(1, r**2)\n",
    "        plane = Manifold(metric, coords=(r, phi))\n",
    "        A = Tensor(plane, 'ulu', {(0, 1, 0): r ** 4, (1, 0, 1): 1 / r ** 2})\n",
    "\n",
    "        # Act\n",
    "        A[1, 1, 1] = r**3\n",
    "\n",
    "        # Assert\n",
    "        self.assertEqual(A[1, 1, 1], r**3)\n",
    "```"
   ]
  },
  {
   "cell_type": "markdown",
   "metadata": {},
   "source": [
    "Running this test complains saying:\n",
    "\n",
    "```\n",
    "A[1, 1, 1] = r**3\n",
    "TypeError: 'Tensor' object does not support item assignment\n",
    "```\n",
    "\n",
    "Ok, setting values with bracket notation does not work yet. We can fix that by adding an implementation for the `__setitem__` method:\n",
    "\n"
   ]
  },
  {
   "cell_type": "markdown",
   "metadata": {},
   "source": [
    "```python\n",
    "class Tensor(object):\n",
    "\n",
    "    def __init__(self, manifold, idx_pos, values):\n",
    "        self.manifold = manifold\n",
    "        self.idx_pos = idx_pos\n",
    "        self.values = values\n",
    "\n",
    "    def __len__(self):\n",
    "        return len(self.values)\n",
    "\n",
    "    def __getitem__(self, m_idx):\n",
    "        return self.values[m_idx]\n",
    "\n",
    "    def __setitem__(self, m_idx, value):\n",
    "        self.values[m_idx] = value\n",
    "\n",
    "```"
   ]
  },
  {
   "cell_type": "markdown",
   "metadata": {},
   "source": [
    "Running the tests should succeed now."
   ]
  },
  {
   "cell_type": "markdown",
   "metadata": {},
   "source": [
    "#### Test: Initializing a tensor without values is the zero tensor."
   ]
  },
  {
   "cell_type": "markdown",
   "metadata": {},
   "source": [
    "```python\n",
    "    def test_init_tensor_without_values_is_zero_tensor(self):\n",
    "\n",
    "        # Arrange\n",
    "        r, phi = sp.symbols('r, phi')\n",
    "        metric = sp.diag(1, r ** 2)\n",
    "        plane = Manifold(metric, coords=(r, phi))\n",
    "        # Act\n",
    "        A = Tensor(plane, 'ulu')\n",
    "\n",
    "        # Assert\n",
    "        self.assertEqual(len(A), 0)\n",
    "\n",
    "```\n",
    "\n",
    "yields error\n",
    "\n",
    "```\n",
    "TypeError: __init__() missing 1 required positional argument: 'values'\n",
    "```\n",
    "\n",
    "fix\n",
    "\n",
    "```python\n",
    "class Tensor(object):\n",
    "\n",
    "    def __init__(self, manifold, idx_pos, values=None):\n",
    "        self.manifold = manifold\n",
    "        self.idx_pos = idx_pos\n",
    "        if values is None:\n",
    "            self.values = {}\n",
    "        else:\n",
    "            self.values = values\n",
    "\n",
    "    def __len__(self):\n",
    "        return len(self.values)\n",
    "\n",
    "    def __getitem__(self, m_idx):\n",
    "        return self.values[m_idx]\n",
    "\n",
    "    def __setitem__(self, m_idx, value):\n",
    "        self.values[m_idx] = value\n",
    "```\n",
    "\n",
    "(the default value for `values`)\n",
    "\n",
    "commit."
   ]
  },
  {
   "cell_type": "markdown",
   "metadata": {},
   "source": [
    "## Refactoring\n",
    "\n",
    "Christoffels are not tensors but have similarity: they are objects with indices. Let's pull out the common behavior.\n",
    "\n",
    "Introduce IndexedObject class and let Tensor inherit from it:\n",
    "\n",
    "```python\n",
    "\n",
    "class IndexedObject(object):\n",
    "\n",
    "    def __init__(self, values=None):\n",
    "        if values is None:\n",
    "            self.values = {}\n",
    "        else:\n",
    "            self.values = values\n",
    "\n",
    "    def __len__(self):\n",
    "        return len(self.values)\n",
    "\n",
    "    def __getitem__(self, m_idx):\n",
    "        return self.values[m_idx]\n",
    "\n",
    "    def __setitem__(self, m_idx, value):\n",
    "        self.values[m_idx] = value\n",
    "\n",
    "\n",
    "class Tensor(IndexedObject):\n",
    "\n",
    "    def __init__(self, manifold, idx_pos, values=None):\n",
    "        super(Tensor, self).__init__(values)\n",
    "        self.manifold = manifold\n",
    "        self.idx_pos = idx_pos\n",
    "```\n",
    "\n",
    "Running tests should still work."
   ]
  },
  {
   "cell_type": "markdown",
   "metadata": {},
   "source": [
    "Define class Christoffel:\n",
    "\n",
    "```python\n",
    "\n",
    "class Manifold(object):\n",
    "\n",
    "    def __init__(self, metric, coords):\n",
    "        self.metric = metric\n",
    "        self.coords = coords\n",
    "        self.gammas = Christoffel(coords, metric)\n",
    "\n",
    "\n",
    "\n",
    "class Christoffel(IndexedObject):\n",
    "\n",
    "    def __init__(self, coords, metric):\n",
    "        super(Christoffel, self).__init__()\n",
    "\n",
    "        x = coords\n",
    "        g = metric\n",
    "        n = len(x)\n",
    "        g_inv = g.inv()\n",
    "        for mu in range(n):\n",
    "            for alpha in range(n):\n",
    "                for beta in range(n):\n",
    "                    gamma = 0\n",
    "                    for nu in range(n):\n",
    "                        gamma += g_inv[mu, nu] * (sp.diff(g[alpha, nu], x[beta]) +\n",
    "                                                  sp.diff(g[nu, beta], x[alpha]) -\n",
    "                                                  sp.diff(g[alpha, beta], x[nu])\n",
    "                                                  )\n",
    "                    if gamma != 0:\n",
    "                        self[(mu, alpha, beta)] = gamma / 2\n",
    "```\n",
    "\n",
    "and move/adapt implementation from Manifold class.\n",
    "note: self[...]\n",
    "\n",
    "Note the power of TDD!\n"
   ]
  },
  {
   "cell_type": "code",
   "execution_count": null,
   "metadata": {},
   "outputs": [],
   "source": []
  }
 ],
 "metadata": {
  "kernelspec": {
   "display_name": "Python 3",
   "language": "python",
   "name": "python3"
  },
  "language_info": {
   "codemirror_mode": {
    "name": "ipython",
    "version": 3
   },
   "file_extension": ".py",
   "mimetype": "text/x-python",
   "name": "python",
   "nbconvert_exporter": "python",
   "pygments_lexer": "ipython3",
   "version": "3.8.5"
  }
 },
 "nbformat": 4,
 "nbformat_minor": 4
}
