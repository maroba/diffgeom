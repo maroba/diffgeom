{
 "cells": [
  {
   "cell_type": "markdown",
   "metadata": {},
   "source": [
    "## Implementation: The Manifold\n",
    "\n",
    "The manifold is the key concept for everything that follows, so it seems natural to start with that. Remember that we want to use test-driven development, so before we write code for any feature, we write a test. As a preliminary test list, I came up with this:\n",
    "\n",
    "- Upon creation, the manifold should store its coordinates and metric\n",
    "- Upon creation, the manifold should   calculate the Christoffel symbols for its coordinate system\n",
    "- For the Euclidean plane in cartesian coordinates, the Christoffel symbols should all be zero\n",
    "- For the Euclidean plane in polar coordinates, the Christoffel symbols should not all be zero. The only ones that   do not vanish are\n",
    "\n",
    "$$\n",
    "\\Gamma^\\theta_{\\;\\,\\varphi\\varphi} =  -r\\quad\\quad \\Gamma^\\varphi_{\\;\\,\\theta\\varphi} = \\Gamma^\\varphi_{\\;\\,\\varphi\\theta} =  \\frac{1}{r}\n",
    "$$\n",
    "\n",
    "#### Test: Upon creation, the manifold should store its coordinates and metric\n",
    "\n",
    "Let's start with the first test. Create a file `tests/test_diffgeom.py` and write the following test code."
   ]
  },
  {
   "cell_type": "markdown",
   "metadata": {},
   "source": [
    "```python\n",
    "import unittest\n",
    "import sympy as sp\n",
    "from diffgeom import Manifold\n",
    "\n",
    "\n",
    "class TestManifold(unittest.TestCase):\n",
    "\n",
    "    def test_init_manifold_stores_coords_and_metric(self):\n",
    "        # Arrange\n",
    "        coords = sp.symbols('x, y')\n",
    "        metric = sp.diag(1, 1)\n",
    "        # Act\n",
    "        manifold = Manifold(metric, coords)\n",
    "        # Assert\n",
    "        self.assertEqual(manifold.coords, coords)\n",
    "        self.assertEqual(manifold.metric, metric)\n",
    "```\n"
   ]
  },
  {
   "cell_type": "markdown",
   "metadata": {},
   "source": [
    "Running the test fails at this point, because we don't have any implementation yet! So let's now write just enough implementation to make the test pass. In `diffgeom/diffgeom.py` create a class:"
   ]
  },
  {
   "cell_type": "markdown",
   "metadata": {},
   "source": [
    "```python\n",
    "class Manifold(object):\n",
    "\n",
    "    def __init__(self, metric, coords):\n",
    "        self.metric = metric\n",
    "        self.coords = coords\n",
    "\n",
    "\n",
    "```"
   ]
  },
  {
   "cell_type": "markdown",
   "metadata": {},
   "source": [
    "Running the test still fails:\n",
    "\n",
    "```\n",
    "ImportError: cannot import name 'Manifold' from 'diffgeom' (/Users/mbaer/PycharmProjects/diffgeom/diffgeom/__init__.py)\n",
    "```\n",
    "\n",
    "What's wrong? It does not find the class `Manifold` in the package `diffgeom`. That's because our class has the fully qualified name `diffgeom.diffgeom.Manifold`. But the statement `from diffgeom import Manifold` expects it to be `diffgeom.Manifold`. How can we do that? Well, just declare the name `Manifold` at the package level. Create a file `diffgeom/__init__.py` and write there\n",
    "\n",
    "```python\n",
    "from .diffgeom import Manifold\n",
    "```\n",
    "\n",
    "With this modification the test should run:\n",
    "\n",
    "```\n",
    "Ran 1 test in 0.002s\n",
    "\n",
    "OK\n",
    "```\n",
    "\n",
    "Time to commit your changes!\n",
    "\n",
    "```\n",
    "git commit -am \"Initializes Manifold object\"\n",
    "```\n",
    "\n",
    "It is good practice to declare often used names at the package level. The main advantage is that this allows you to move the implementation to some other module. If users of the code just use the exported name, then moving the implementation does not break their code. However, if you don't export names, you force the users to use fully qualified names for your classes and functions and when you move the implementation, the code of all users breaks.\n",
    "\n"
   ]
  },
  {
   "cell_type": "markdown",
   "metadata": {},
   "source": [
    "#### Test: Upon creation, the manifold should calculate the Christoffel symbols for its coordinate system\n",
    "\n",
    "Let's move on to the next test! In `tests/`"
   ]
  },
  {
   "cell_type": "code",
   "execution_count": null,
   "metadata": {},
   "outputs": [],
   "source": []
  }
 ],
 "metadata": {
  "kernelspec": {
   "display_name": "Python 3",
   "language": "python",
   "name": "python3"
  },
  "language_info": {
   "codemirror_mode": {
    "name": "ipython",
    "version": 3
   },
   "file_extension": ".py",
   "mimetype": "text/x-python",
   "name": "python",
   "nbconvert_exporter": "python",
   "pygments_lexer": "ipython3",
   "version": "3.8.5"
  }
 },
 "nbformat": 4,
 "nbformat_minor": 4
}
